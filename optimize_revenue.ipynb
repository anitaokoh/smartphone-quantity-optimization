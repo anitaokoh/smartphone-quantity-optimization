{
 "cells": [
  {
   "cell_type": "markdown",
   "source": "# Optimization Problem: Maximize Profit for smartphone sales",
   "metadata": {
    "tags": [],
    "is_collapsed": false,
    "cell_id": "00000-329fb905-7f3a-4243-9f0b-b1094fadb63c",
    "deepnote_cell_type": "text-cell-h1"
   }
  },
  {
   "cell_type": "code",
   "metadata": {
    "tags": [],
    "cell_id": "00000-d1d6fc97-f81d-412f-8ee4-8d6f7ae36068",
    "deepnote_to_be_reexecuted": false,
    "source_hash": "d04b731",
    "execution_start": 1629491778666,
    "execution_millis": 2724,
    "deepnote_cell_type": "code"
   },
   "source": "# Import libraries\nimport pandas as pd\nimport numpy as np\nfrom pulp import *\nimport datapane as dp",
   "outputs": [],
   "execution_count": 1
  },
  {
   "cell_type": "code",
   "metadata": {
    "tags": [],
    "cell_id": "00001-46d609f4-1929-48ff-8af3-cf14ea25db9c",
    "deepnote_to_be_reexecuted": false,
    "source_hash": "8b01223",
    "execution_start": 1629491781405,
    "execution_millis": 643771,
    "deepnote_cell_type": "code"
   },
   "source": "#read original dataset\necommerce_data = pd.read_csv('kz.csv', parse_dates=['event_time'])\necommerce_data.head()",
   "outputs": [
    {
     "output_type": "execute_result",
     "execution_count": 2,
     "data": {
      "application/vnd.deepnote.dataframe.v2+json": {
       "row_count": 5,
       "column_count": 8,
       "columns": [
        {
         "name": "event_time",
         "dtype": "datetime64[ns, UTC]",
         "stats": {
          "unique_count": 3,
          "nan_count": 0,
          "min": "2020-04-24 11:50:39+00:00",
          "max": "2020-04-24 19:16:21+00:00",
          "histogram": [
           {
            "bin_start": 1587729039000000000,
            "bin_end": 1587731713200000000,
            "count": 2
           },
           {
            "bin_start": 1587731713200000000,
            "bin_end": 1587734387400000000,
            "count": 0
           },
           {
            "bin_start": 1587734387400000000,
            "bin_end": 1587737061600000000,
            "count": 0
           },
           {
            "bin_start": 1587737061600000000,
            "bin_end": 1587739735800000000,
            "count": 2
           },
           {
            "bin_start": 1587739735800000000,
            "bin_end": 1587742410000000000,
            "count": 0
           },
           {
            "bin_start": 1587742410000000000,
            "bin_end": 1587745084200000000,
            "count": 0
           },
           {
            "bin_start": 1587745084200000000,
            "bin_end": 1587747758400000000,
            "count": 0
           },
           {
            "bin_start": 1587747758400000000,
            "bin_end": 1587750432600000000,
            "count": 0
           },
           {
            "bin_start": 1587750432600000000,
            "bin_end": 1587753106800000000,
            "count": 0
           },
           {
            "bin_start": 1587753106800000000,
            "bin_end": 1587755781000000000,
            "count": 1
           }
          ]
         }
        },
        {
         "name": "order_id",
         "dtype": "int64",
         "stats": {
          "unique_count": 3,
          "nan_count": 0,
          "min": "2294359932054536986",
          "max": "2294584263154074236",
          "histogram": [
           {
            "bin_start": 2294359932054537000,
            "bin_end": 2294382365164490800,
            "count": 2
           },
           {
            "bin_start": 2294382365164490800,
            "bin_end": 2294404798274444300,
            "count": 0
           },
           {
            "bin_start": 2294404798274444300,
            "bin_end": 2294427231384398000,
            "count": 0
           },
           {
            "bin_start": 2294427231384398000,
            "bin_end": 2294449664494352000,
            "count": 2
           },
           {
            "bin_start": 2294449664494352000,
            "bin_end": 2294472097604305400,
            "count": 0
           },
           {
            "bin_start": 2294472097604305400,
            "bin_end": 2294494530714259200,
            "count": 0
           },
           {
            "bin_start": 2294494530714259200,
            "bin_end": 2294516963824213000,
            "count": 0
           },
           {
            "bin_start": 2294516963824213000,
            "bin_end": 2294539396934166800,
            "count": 0
           },
           {
            "bin_start": 2294539396934166800,
            "bin_end": 2294561830044120300,
            "count": 0
           },
           {
            "bin_start": 2294561830044120300,
            "bin_end": 2294584263154074000,
            "count": 1
           }
          ]
         }
        },
        {
         "name": "product_id",
         "dtype": "int64",
         "stats": {
          "unique_count": 3,
          "nan_count": 0,
          "min": "1515966223509089906",
          "max": "2273948319057183658",
          "histogram": [
           {
            "bin_start": 1515966223509089800,
            "bin_end": 1591764433063899100,
            "count": 2
           },
           {
            "bin_start": 1591764433063899100,
            "bin_end": 1667562642618708500,
            "count": 0
           },
           {
            "bin_start": 1667562642618708500,
            "bin_end": 1743360852173517800,
            "count": 0
           },
           {
            "bin_start": 1743360852173517800,
            "bin_end": 1819159061728327400,
            "count": 0
           },
           {
            "bin_start": 1819159061728327400,
            "bin_end": 1894957271283136800,
            "count": 0
           },
           {
            "bin_start": 1894957271283136800,
            "bin_end": 1970755480837946000,
            "count": 0
           },
           {
            "bin_start": 1970755480837946000,
            "bin_end": 2046553690392755500,
            "count": 0
           },
           {
            "bin_start": 2046553690392755500,
            "bin_end": 2122351899947565000,
            "count": 0
           },
           {
            "bin_start": 2122351899947565000,
            "bin_end": 2198150109502374400,
            "count": 0
           },
           {
            "bin_start": 2198150109502374400,
            "bin_end": 2273948319057183700,
            "count": 3
           }
          ]
         }
        },
        {
         "name": "category_id",
         "dtype": "float64",
         "stats": {
          "unique_count": 3,
          "nan_count": 0,
          "min": "2.268105426648171e+18",
          "max": "2.26810547136784e+18",
          "histogram": [
           {
            "bin_start": 2268105426648171000,
            "bin_end": 2268105431120138000,
            "count": 4
           },
           {
            "bin_start": 2268105431120138000,
            "bin_end": 2268105435592104700,
            "count": 0
           },
           {
            "bin_start": 2268105435592104700,
            "bin_end": 2268105440064071700,
            "count": 0
           },
           {
            "bin_start": 2268105440064071700,
            "bin_end": 2268105444536038700,
            "count": 0
           },
           {
            "bin_start": 2268105444536038700,
            "bin_end": 2268105449008005600,
            "count": 0
           },
           {
            "bin_start": 2268105449008005600,
            "bin_end": 2268105453479972400,
            "count": 0
           },
           {
            "bin_start": 2268105453479972400,
            "bin_end": 2268105457951939300,
            "count": 0
           },
           {
            "bin_start": 2268105457951939300,
            "bin_end": 2268105462423906300,
            "count": 0
           },
           {
            "bin_start": 2268105462423906300,
            "bin_end": 2268105466895873000,
            "count": 0
           },
           {
            "bin_start": 2268105466895873000,
            "bin_end": 2268105471367840000,
            "count": 1
           }
          ]
         }
        },
        {
         "name": "category_code",
         "dtype": "object",
         "stats": {
          "unique_count": 2,
          "nan_count": 1,
          "categories": [
           {
            "name": "electronics.tablet",
            "count": 2
           },
           {
            "name": "electronics.audio.headphone",
            "count": 2
           },
           {
            "name": "Missing",
            "count": 1
           }
          ]
         }
        },
        {
         "name": "brand",
         "dtype": "object",
         "stats": {
          "unique_count": 3,
          "nan_count": 0,
          "categories": [
           {
            "name": "samsung",
            "count": 2
           },
           {
            "name": "huawei",
            "count": 2
           },
           {
            "name": "karcher",
            "count": 1
           }
          ]
         }
        },
        {
         "name": "price",
         "dtype": "float64",
         "stats": {
          "unique_count": 3,
          "nan_count": 0,
          "min": "77.52",
          "max": "217.57",
          "histogram": [
           {
            "bin_start": 77.52,
            "bin_end": 91.52499999999999,
            "count": 2
           },
           {
            "bin_start": 91.52499999999999,
            "bin_end": 105.53,
            "count": 0
           },
           {
            "bin_start": 105.53,
            "bin_end": 119.535,
            "count": 0
           },
           {
            "bin_start": 119.535,
            "bin_end": 133.54,
            "count": 0
           },
           {
            "bin_start": 133.54,
            "bin_end": 147.54500000000002,
            "count": 0
           },
           {
            "bin_start": 147.54500000000002,
            "bin_end": 161.55,
            "count": 0
           },
           {
            "bin_start": 161.55,
            "bin_end": 175.555,
            "count": 2
           },
           {
            "bin_start": 175.555,
            "bin_end": 189.56,
            "count": 0
           },
           {
            "bin_start": 189.56,
            "bin_end": 203.565,
            "count": 0
           },
           {
            "bin_start": 203.565,
            "bin_end": 217.57,
            "count": 1
           }
          ]
         }
        },
        {
         "name": "user_id",
         "dtype": "float64",
         "stats": {
          "unique_count": 3,
          "nan_count": 0,
          "min": "1.515915625441994e+18",
          "max": "1.5159156254478794e+18",
          "histogram": [
           {
            "bin_start": 1515915625441994000,
            "bin_end": 1515915625442582500,
            "count": 2
           },
           {
            "bin_start": 1515915625442582500,
            "bin_end": 1515915625443171000,
            "count": 1
           },
           {
            "bin_start": 1515915625443171000,
            "bin_end": 1515915625443759600,
            "count": 0
           },
           {
            "bin_start": 1515915625443759600,
            "bin_end": 1515915625444348200,
            "count": 0
           },
           {
            "bin_start": 1515915625444348200,
            "bin_end": 1515915625444936700,
            "count": 0
           },
           {
            "bin_start": 1515915625444936700,
            "bin_end": 1515915625445525200,
            "count": 0
           },
           {
            "bin_start": 1515915625445525200,
            "bin_end": 1515915625446113800,
            "count": 0
           },
           {
            "bin_start": 1515915625446113800,
            "bin_end": 1515915625446702300,
            "count": 0
           },
           {
            "bin_start": 1515915625446702300,
            "bin_end": 1515915625447291000,
            "count": 0
           },
           {
            "bin_start": 1515915625447291000,
            "bin_end": 1515915625447879400,
            "count": 2
           }
          ]
         }
        },
        {
         "name": "_deepnote_index_column",
         "dtype": "int64"
        }
       ],
       "rows_top": [
        {
         "event_time": "2020-04-24T11:50:39.000000",
         "order_id": 2294359932054537000,
         "product_id": 1515966223509089800,
         "category_id": 2268105426648171000,
         "category_code": "electronics.tablet",
         "brand": "samsung",
         "price": 162.01,
         "user_id": 1515915625441994000,
         "_deepnote_index_column": 0
        },
        {
         "event_time": "2020-04-24T11:50:39.000000",
         "order_id": 2294359932054537000,
         "product_id": 1515966223509089800,
         "category_id": 2268105426648171000,
         "category_code": "electronics.tablet",
         "brand": "samsung",
         "price": 162.01,
         "user_id": 1515915625441994000,
         "_deepnote_index_column": 1
        },
        {
         "event_time": "2020-04-24T14:37:43.000000",
         "order_id": 2294444024058086100,
         "product_id": 2273948319057183700,
         "category_id": 2268105430162997800,
         "category_code": "electronics.audio.headphone",
         "brand": "huawei",
         "price": 77.52,
         "user_id": 1515915625447879400,
         "_deepnote_index_column": 2
        },
        {
         "event_time": "2020-04-24T14:37:43.000000",
         "order_id": 2294444024058086100,
         "product_id": 2273948319057183700,
         "category_id": 2268105430162997800,
         "category_code": "electronics.audio.headphone",
         "brand": "huawei",
         "price": 77.52,
         "user_id": 1515915625447879400,
         "_deepnote_index_column": 3
        },
        {
         "event_time": "2020-04-24T19:16:21.000000",
         "order_id": 2294584263154074000,
         "product_id": 2273948316817424400,
         "category_id": 2268105471367840000,
         "category_code": "nan",
         "brand": "karcher",
         "price": 217.57,
         "user_id": 1515915625443148000,
         "_deepnote_index_column": 4
        }
       ],
       "rows_bottom": null
      },
      "text/plain": "                 event_time             order_id           product_id  \\\n0 2020-04-24 11:50:39+00:00  2294359932054536986  1515966223509089906   \n1 2020-04-24 11:50:39+00:00  2294359932054536986  1515966223509089906   \n2 2020-04-24 14:37:43+00:00  2294444024058086220  2273948319057183658   \n3 2020-04-24 14:37:43+00:00  2294444024058086220  2273948319057183658   \n4 2020-04-24 19:16:21+00:00  2294584263154074236  2273948316817424439   \n\n    category_id                category_code    brand   price       user_id  \n0  2.268105e+18           electronics.tablet  samsung  162.01  1.515916e+18  \n1  2.268105e+18           electronics.tablet  samsung  162.01  1.515916e+18  \n2  2.268105e+18  electronics.audio.headphone   huawei   77.52  1.515916e+18  \n3  2.268105e+18  electronics.audio.headphone   huawei   77.52  1.515916e+18  \n4  2.268105e+18                          NaN  karcher  217.57  1.515916e+18  ",
      "text/html": "<div>\n<style scoped>\n    .dataframe tbody tr th:only-of-type {\n        vertical-align: middle;\n    }\n\n    .dataframe tbody tr th {\n        vertical-align: top;\n    }\n\n    .dataframe thead th {\n        text-align: right;\n    }\n</style>\n<table border=\"1\" class=\"dataframe\">\n  <thead>\n    <tr style=\"text-align: right;\">\n      <th></th>\n      <th>event_time</th>\n      <th>order_id</th>\n      <th>product_id</th>\n      <th>category_id</th>\n      <th>category_code</th>\n      <th>brand</th>\n      <th>price</th>\n      <th>user_id</th>\n    </tr>\n  </thead>\n  <tbody>\n    <tr>\n      <th>0</th>\n      <td>2020-04-24 11:50:39+00:00</td>\n      <td>2294359932054536986</td>\n      <td>1515966223509089906</td>\n      <td>2.268105e+18</td>\n      <td>electronics.tablet</td>\n      <td>samsung</td>\n      <td>162.01</td>\n      <td>1.515916e+18</td>\n    </tr>\n    <tr>\n      <th>1</th>\n      <td>2020-04-24 11:50:39+00:00</td>\n      <td>2294359932054536986</td>\n      <td>1515966223509089906</td>\n      <td>2.268105e+18</td>\n      <td>electronics.tablet</td>\n      <td>samsung</td>\n      <td>162.01</td>\n      <td>1.515916e+18</td>\n    </tr>\n    <tr>\n      <th>2</th>\n      <td>2020-04-24 14:37:43+00:00</td>\n      <td>2294444024058086220</td>\n      <td>2273948319057183658</td>\n      <td>2.268105e+18</td>\n      <td>electronics.audio.headphone</td>\n      <td>huawei</td>\n      <td>77.52</td>\n      <td>1.515916e+18</td>\n    </tr>\n    <tr>\n      <th>3</th>\n      <td>2020-04-24 14:37:43+00:00</td>\n      <td>2294444024058086220</td>\n      <td>2273948319057183658</td>\n      <td>2.268105e+18</td>\n      <td>electronics.audio.headphone</td>\n      <td>huawei</td>\n      <td>77.52</td>\n      <td>1.515916e+18</td>\n    </tr>\n    <tr>\n      <th>4</th>\n      <td>2020-04-24 19:16:21+00:00</td>\n      <td>2294584263154074236</td>\n      <td>2273948316817424439</td>\n      <td>2.268105e+18</td>\n      <td>NaN</td>\n      <td>karcher</td>\n      <td>217.57</td>\n      <td>1.515916e+18</td>\n    </tr>\n  </tbody>\n</table>\n</div>"
     },
     "metadata": {}
    }
   ],
   "execution_count": 2
  },
  {
   "cell_type": "code",
   "metadata": {
    "tags": [],
    "cell_id": "00007-b5cde015-b20f-4b4c-a73f-9dbd8254637f",
    "deepnote_to_be_reexecuted": false,
    "source_hash": "13348cc3",
    "execution_start": 1629492425212,
    "execution_millis": 0,
    "deepnote_cell_type": "code"
   },
   "source": "#transform and clean data\ndef transform_dataset(data):\n    \"\"\"\n    Get a clean subset of apple and samsung smartphones in 2020 that includes the focus columns with no missing values or data quality issue\n    \"\"\"\n    focus_fields = data.loc[:, ['event_time', 'category_code', 'brand', 'price']]\n    focus_rows = focus_fields.dropna(subset=['price', 'category_code'])\n    focus_rows = focus_rows[focus_rows['event_time'].dt.year ==2020]\n    focus_rows['year'] = focus_rows['event_time'].dt.year\n    focus_rows['category'], focus_rows['item'] = focus_rows['category_code'].str.split('.').str[0], focus_rows['category_code'].str.split('.').str[-1]\n    focus_rows['date'] = focus_rows['event_time'].dt.date\n    focus_data = focus_rows[(focus_rows['item']=='smartphone') & (focus_rows['brand'].isin(['samsung','apple']))]\n    smartphone_data = focus_data.loc[:,['date', 'event_time', 'brand', 'price']]\n    return smartphone_data\n",
   "outputs": [],
   "execution_count": 3
  },
  {
   "cell_type": "code",
   "metadata": {
    "tags": [],
    "cell_id": "00003-893993c7-c899-45a5-89bc-dcd376a80d8b",
    "deepnote_to_be_reexecuted": false,
    "source_hash": "e8ec9b47",
    "execution_start": 1629492425213,
    "execution_millis": 10087,
    "deepnote_cell_type": "code"
   },
   "source": "# return clean subset data\nsmartphone_data = transform_dataset(ecommerce_data)\nsmartphone_data.head()",
   "outputs": [
    {
     "output_type": "execute_result",
     "execution_count": 4,
     "data": {
      "application/vnd.deepnote.dataframe.v2+json": {
       "row_count": 5,
       "column_count": 4,
       "columns": [
        {
         "name": "date",
         "dtype": "object",
         "stats": {
          "unique_count": 2,
          "nan_count": 0,
          "categories": [
           {
            "name": "2020-04-26",
            "count": 4
           },
           {
            "name": "2020-04-29",
            "count": 1
           }
          ]
         }
        },
        {
         "name": "event_time",
         "dtype": "datetime64[ns, UTC]",
         "stats": {
          "unique_count": 2,
          "nan_count": 0,
          "min": "2020-04-26 09:33:47+00:00",
          "max": "2020-04-29 04:46:39+00:00",
          "histogram": [
           {
            "bin_start": 1587893627000000000,
            "bin_end": 1587917824200000000,
            "count": 4
           },
           {
            "bin_start": 1587917824200000000,
            "bin_end": 1587942021400000000,
            "count": 0
           },
           {
            "bin_start": 1587942021400000000,
            "bin_end": 1587966218600000000,
            "count": 0
           },
           {
            "bin_start": 1587966218600000000,
            "bin_end": 1587990415800000000,
            "count": 0
           },
           {
            "bin_start": 1587990415800000000,
            "bin_end": 1588014613000000000,
            "count": 0
           },
           {
            "bin_start": 1588014613000000000,
            "bin_end": 1588038810200000000,
            "count": 0
           },
           {
            "bin_start": 1588038810200000000,
            "bin_end": 1588063007400000000,
            "count": 0
           },
           {
            "bin_start": 1588063007400000000,
            "bin_end": 1588087204600000000,
            "count": 0
           },
           {
            "bin_start": 1588087204600000000,
            "bin_end": 1588111401800000000,
            "count": 0
           },
           {
            "bin_start": 1588111401800000000,
            "bin_end": 1588135599000000000,
            "count": 1
           }
          ]
         }
        },
        {
         "name": "brand",
         "dtype": "object",
         "stats": {
          "unique_count": 2,
          "nan_count": 0,
          "categories": [
           {
            "name": "apple",
            "count": 4
           },
           {
            "name": "samsung",
            "count": 1
           }
          ]
         }
        },
        {
         "name": "price",
         "dtype": "float64",
         "stats": {
          "unique_count": 2,
          "nan_count": 0,
          "min": "300.9",
          "max": "1387.01",
          "histogram": [
           {
            "bin_start": 300.9,
            "bin_end": 409.51099999999997,
            "count": 1
           },
           {
            "bin_start": 409.51099999999997,
            "bin_end": 518.1220000000001,
            "count": 0
           },
           {
            "bin_start": 518.1220000000001,
            "bin_end": 626.7330000000001,
            "count": 0
           },
           {
            "bin_start": 626.7330000000001,
            "bin_end": 735.344,
            "count": 0
           },
           {
            "bin_start": 735.344,
            "bin_end": 843.955,
            "count": 0
           },
           {
            "bin_start": 843.955,
            "bin_end": 952.5660000000001,
            "count": 0
           },
           {
            "bin_start": 952.5660000000001,
            "bin_end": 1061.1770000000001,
            "count": 0
           },
           {
            "bin_start": 1061.1770000000001,
            "bin_end": 1169.788,
            "count": 0
           },
           {
            "bin_start": 1169.788,
            "bin_end": 1278.3990000000001,
            "count": 0
           },
           {
            "bin_start": 1278.3990000000001,
            "bin_end": 1387.01,
            "count": 4
           }
          ]
         }
        },
        {
         "name": "_deepnote_index_column",
         "dtype": "int64"
        }
       ],
       "rows_top": [
        {
         "date": "2020-04-26",
         "event_time": "2020-04-26T09:33:47.000000",
         "brand": "apple",
         "price": 1387.01,
         "_deepnote_index_column": 6
        },
        {
         "date": "2020-04-26",
         "event_time": "2020-04-26T09:33:47.000000",
         "brand": "apple",
         "price": 1387.01,
         "_deepnote_index_column": 7
        },
        {
         "date": "2020-04-26",
         "event_time": "2020-04-26T09:33:47.000000",
         "brand": "apple",
         "price": 1387.01,
         "_deepnote_index_column": 8
        },
        {
         "date": "2020-04-26",
         "event_time": "2020-04-26T09:33:47.000000",
         "brand": "apple",
         "price": 1387.01,
         "_deepnote_index_column": 9
        },
        {
         "date": "2020-04-29",
         "event_time": "2020-04-29T04:46:39.000000",
         "brand": "samsung",
         "price": 300.9,
         "_deepnote_index_column": 27
        }
       ],
       "rows_bottom": null
      },
      "text/plain": "          date                event_time    brand    price\n6   2020-04-26 2020-04-26 09:33:47+00:00    apple  1387.01\n7   2020-04-26 2020-04-26 09:33:47+00:00    apple  1387.01\n8   2020-04-26 2020-04-26 09:33:47+00:00    apple  1387.01\n9   2020-04-26 2020-04-26 09:33:47+00:00    apple  1387.01\n27  2020-04-29 2020-04-29 04:46:39+00:00  samsung   300.90",
      "text/html": "<div>\n<style scoped>\n    .dataframe tbody tr th:only-of-type {\n        vertical-align: middle;\n    }\n\n    .dataframe tbody tr th {\n        vertical-align: top;\n    }\n\n    .dataframe thead th {\n        text-align: right;\n    }\n</style>\n<table border=\"1\" class=\"dataframe\">\n  <thead>\n    <tr style=\"text-align: right;\">\n      <th></th>\n      <th>date</th>\n      <th>event_time</th>\n      <th>brand</th>\n      <th>price</th>\n    </tr>\n  </thead>\n  <tbody>\n    <tr>\n      <th>6</th>\n      <td>2020-04-26</td>\n      <td>2020-04-26 09:33:47+00:00</td>\n      <td>apple</td>\n      <td>1387.01</td>\n    </tr>\n    <tr>\n      <th>7</th>\n      <td>2020-04-26</td>\n      <td>2020-04-26 09:33:47+00:00</td>\n      <td>apple</td>\n      <td>1387.01</td>\n    </tr>\n    <tr>\n      <th>8</th>\n      <td>2020-04-26</td>\n      <td>2020-04-26 09:33:47+00:00</td>\n      <td>apple</td>\n      <td>1387.01</td>\n    </tr>\n    <tr>\n      <th>9</th>\n      <td>2020-04-26</td>\n      <td>2020-04-26 09:33:47+00:00</td>\n      <td>apple</td>\n      <td>1387.01</td>\n    </tr>\n    <tr>\n      <th>27</th>\n      <td>2020-04-29</td>\n      <td>2020-04-29 04:46:39+00:00</td>\n      <td>samsung</td>\n      <td>300.90</td>\n    </tr>\n  </tbody>\n</table>\n</div>"
     },
     "metadata": {}
    }
   ],
   "execution_count": 4
  },
  {
   "cell_type": "code",
   "metadata": {
    "tags": [],
    "cell_id": "00007-7f02f4ed-d1a0-4de6-b806-e9bbd09defda",
    "deepnote_to_be_reexecuted": false,
    "source_hash": "5cbf0bc4",
    "execution_start": 1629492435307,
    "execution_millis": 797,
    "deepnote_cell_type": "code"
   },
   "source": "# expose the datafram to datapane to share the table publicly\nr = dp.Report(dp.DataTable(smartphone_data.head(20)))\nr.publish(name='you', visibility='PUBLIC')",
   "outputs": [
    {
     "name": "stderr",
     "text": "/root/venv/lib/python3.7/site-packages/datapane/client/api/report/core.py:510: UserWarning: use dp.ReportFormatting instead when calling upload or save\n  warnings.warn(\"use dp.ReportFormatting instead when calling upload or save\")\n/root/venv/lib/python3.7/site-packages/datapane/client/api/report/core.py:577: UserWarning: Deprecated - please use report.upload instead\n  warnings.warn(\"Deprecated - please use report.upload instead\")\n/root/venv/lib/python3.7/site-packages/datapane/client/api/report/core.py:557: UserWarning: Visibility parameter deprecated, your reports are drafts by default and can be published via the report share feature in your browser\n  \"Visibility parameter deprecated, your reports are drafts by default and can be published via the report share feature in your browser\"\n",
     "output_type": "stream"
    },
    {
     "data": {
      "text/plain": "<IPython.core.display.Markdown object>",
      "text/markdown": "Publishing document and associated data - *please wait...*"
     },
     "metadata": {},
     "output_type": "display_data"
    },
    {
     "data": {
      "text/plain": "<IPython.core.display.Markdown object>",
      "text/markdown": "Your report only contains a single element - did you know you can include additional plots, tables and text in a report? Check out [the docs](https://docs.datapane.com/reports/blocks/layout-pages-and-selects) for more info"
     },
     "metadata": {},
     "output_type": "display_data"
    },
    {
     "data": {
      "text/plain": "<IPython.core.display.Markdown object>",
      "text/markdown": "Your report doesn't contain any text - consider using TextReport to upload assets and add text to your report from your browser"
     },
     "metadata": {},
     "output_type": "display_data"
    },
    {
     "data": {
      "text/plain": "<IPython.core.display.Markdown object>",
      "text/markdown": "Report successfully uploaded, click [here](https://datapane.com/u/anita8/reports/you/) to view your report and optionally share it with the Datapane Community"
     },
     "metadata": {},
     "output_type": "display_data"
    }
   ],
   "execution_count": 5
  },
  {
   "cell_type": "markdown",
   "source": "### Analysis the data\n- The fixed price we want to use\n- The capacity constraint(s)\n- The revenue we make currently in a day on an average",
   "metadata": {
    "tags": [],
    "cell_id": "00007-327ab6c6-efbf-40fc-8d25-3bc57f33d326",
    "deepnote_cell_type": "markdown"
   }
  },
  {
   "cell_type": "code",
   "metadata": {
    "tags": [],
    "cell_id": "00006-29ea778c-c2ee-4925-9600-b777cc958918",
    "deepnote_to_be_reexecuted": false,
    "source_hash": "5af10315",
    "execution_start": 1629492436106,
    "execution_millis": 202,
    "deepnote_cell_type": "code"
   },
   "source": "\ndef average_price(data):\n    \"\"\"\n    Get the average price per brand by summing the unique variation of prices over time and dividing it by the count of variations\n    \"\"\"\n    brand_price = {}\n    for i in list(data['brand'].unique()):\n        list_price_sum = sum(data[data['brand']==i]['price'].unique())\n        unique_price_count = data[data['brand']==i]['price'].nunique()\n        avg_price = list_price_sum/unique_price_count\n        brand_price[i] = round(avg_price , 2)\n    return(brand_price)\n        \naverage_price_per_brand = average_price(smartphone_data)",
   "outputs": [],
   "execution_count": 6
  },
  {
   "cell_type": "code",
   "metadata": {
    "tags": [],
    "cell_id": "00006-9bdf9285-8997-4a4e-bdb9-57904b8f0ee0",
    "deepnote_to_be_reexecuted": false,
    "source_hash": "cc462e21",
    "execution_start": 1629492436329,
    "execution_millis": 41,
    "deepnote_cell_type": "code"
   },
   "source": "\ndef average_phone_available(data):\n    \"\"\"\n    Get the average daily stock of phones by getting all the phones sold so far and dividing it by the number of days recorded\n    \"\"\"\n    inventory_sold = data.shape[0]\n    days_so_far = data['date'].nunique()\n    average_inventory_available = inventory_sold/days_so_far\n    return(round(average_inventory_available,0))\n\naverage_inventory_available = average_phone_available(smartphone_data)",
   "outputs": [],
   "execution_count": 7
  },
  {
   "cell_type": "code",
   "metadata": {
    "tags": [],
    "cell_id": "00006-08efec30-6cfa-4cfb-be87-482666bbd8bb",
    "deepnote_to_be_reexecuted": false,
    "source_hash": "66e7b8a3",
    "execution_start": 1629492436447,
    "execution_millis": 33,
    "deepnote_cell_type": "code"
   },
   "source": "def average_revenue(data):\n    \"\"\"\n    Get the average revenue made in a day by getting the sum of revenue made so far divided by the number of days recorded\n    \"\"\"\n    revenue_so_far = sum(data['price'])\n    days_so_far = data['date'].nunique()\n    average_daily_revenue = revenue_so_far/days_so_far\n    return (round(average_daily_revenue,2))\n\nrevenue_daily_average = average_revenue(smartphone_data)\n\n",
   "outputs": [],
   "execution_count": 8
  },
  {
   "cell_type": "markdown",
   "source": "### Use Pulp to solve the optimization problem",
   "metadata": {
    "tags": [],
    "is_collapsed": false,
    "cell_id": "00010-90a95eea-3074-40b9-be97-c9d7d461fda9",
    "deepnote_cell_type": "text-cell-h3"
   }
  },
  {
   "cell_type": "code",
   "metadata": {
    "tags": [],
    "cell_id": "00008-8704599a-aa87-41f8-82d9-b334beef29f4",
    "deepnote_to_be_reexecuted": false,
    "source_hash": "34db7d61",
    "execution_start": 1629492436492,
    "execution_millis": 50,
    "deepnote_cell_type": "code"
   },
   "source": "# solve the optimization problem\n\nmodel = LpProblem(\"Maximize sales revenue\", LpMaximize)\nA = LpVariable('Apple', lowBound=0, cat='Integer')\nS = LpVariable('Samsung', lowBound=0, cat='Integer')\nmodel += average_price_per_brand['apple'] * A + average_price_per_brand['samsung'] * S\nmodel += 1* A + 1 * S <= average_inventory_available\nstatus = model.solve()\nprint(\"Stock {} Apple Phones \".format(A.varValue))\nprint(\"Stock {} Samsung Phones\".format(S.varValue))",
   "outputs": [
    {
     "name": "stdout",
     "text": "Welcome to the CBC MILP Solver \nVersion: 2.10.3 \nBuild Date: Dec 15 2019 \n\ncommand line - /root/venv/lib/python3.7/site-packages/pulp/apis/../solverdir/cbc/linux/64/cbc /tmp/25c85825af6d4a989318a72dd567ed66-pulp.mps max branch printingOptions all solution /tmp/25c85825af6d4a989318a72dd567ed66-pulp.sol (default strategy 1)\nAt line 2 NAME          MODEL\nAt line 3 ROWS\nAt line 6 COLUMNS\nAt line 15 RHS\nAt line 17 BOUNDS\nAt line 20 ENDATA\nProblem MODEL has 1 rows, 2 columns and 2 elements\nCoin0008I MODEL read with 0 errors\nContinuous objective value is 547240 - 0.00 seconds\nCgl0004I processed model has 0 rows, 0 columns (0 integer (0 of which binary)) and 0 elements\nCbc3007W No integer variables - nothing to do\nCuts at root node changed objective from -547240 to -1.79769e+308\nProbing was tried 0 times and created 0 cuts of which 0 were active after adding rounds of cuts (0.000 seconds)\nGomory was tried 0 times and created 0 cuts of which 0 were active after adding rounds of cuts (0.000 seconds)\nKnapsack was tried 0 times and created 0 cuts of which 0 were active after adding rounds of cuts (0.000 seconds)\nClique was tried 0 times and created 0 cuts of which 0 were active after adding rounds of cuts (0.000 seconds)\nMixedIntegerRounding2 was tried 0 times and created 0 cuts of which 0 were active after adding rounds of cuts (0.000 seconds)\nFlowCover was tried 0 times and created 0 cuts of which 0 were active after adding rounds of cuts (0.000 seconds)\nTwoMirCuts was tried 0 times and created 0 cuts of which 0 were active after adding rounds of cuts (0.000 seconds)\nZeroHalf was tried 0 times and created 0 cuts of which 0 were active after adding rounds of cuts (0.000 seconds)\n\nResult - Optimal solution found\n\nObjective value:                547239.82000000\nEnumerated nodes:               0\nTotal iterations:               0\nTime (CPU seconds):             0.00\nTime (Wallclock seconds):       0.00\n\nOption for printingOptions changed from normal to all\nTotal time (CPU seconds):       0.00   (Wallclock seconds):       0.00\n\nStock 694.0 Apple Phones \nStock 0.0 Samsung Phones\n/root/venv/lib/python3.7/site-packages/pulp/pulp.py:1316: UserWarning: Spaces are not permitted in the name. Converted to '_'\n  warnings.warn(\"Spaces are not permitted in the name. Converted to '_'\")\n",
     "output_type": "stream"
    }
   ],
   "execution_count": 9
  },
  {
   "cell_type": "markdown",
   "source": "### Make Decision",
   "metadata": {
    "tags": [],
    "is_collapsed": false,
    "cell_id": "00012-760a1b47-3be5-4e3b-aafd-1b87390927f6",
    "deepnote_cell_type": "text-cell-h3"
   }
  },
  {
   "cell_type": "code",
   "metadata": {
    "tags": [],
    "cell_id": "00009-e7c6b5f1-e7f1-4b62-8806-b1e107d64957",
    "deepnote_to_be_reexecuted": false,
    "source_hash": "1f10f82",
    "execution_start": 1629492436536,
    "execution_millis": 42,
    "deepnote_cell_type": "code"
   },
   "source": "# get the maximum revenue with the option A & S stock quantity\nprint(average_price_per_brand['apple'] * A.varValue + average_price_per_brand['samsung'] * S.varValue)",
   "outputs": [
    {
     "name": "stdout",
     "text": "547239.82\n",
     "output_type": "stream"
    }
   ],
   "execution_count": 10
  },
  {
   "cell_type": "code",
   "metadata": {
    "tags": [],
    "cell_id": "00010-7c12f9d1-76cd-424e-9d44-25c2b46b06ec",
    "deepnote_to_be_reexecuted": false,
    "source_hash": "2bc1a72d",
    "execution_start": 1629492436579,
    "execution_millis": 90,
    "deepnote_cell_type": "code"
   },
   "source": "# Compare the optimum solution revenue with the current average revenue made\n# get the percentage increase/decrease\nmaximum_revenue = average_price_per_brand['apple'] * A.varValue + average_price_per_brand['samsung'] * S.varValue\ncurrent_revenue = average_revenue(smartphone_data)\n\nprint(str(round(((maximum_revenue - current_revenue)/ current_revenue) * 100.0,2)) + '%')",
   "outputs": [
    {
     "name": "stdout",
     "text": "120.69%\n",
     "output_type": "stream"
    }
   ],
   "execution_count": 11
  },
  {
   "cell_type": "markdown",
   "source": "It is better to stick to a fixed price through out the day",
   "metadata": {
    "tags": [],
    "is_collapsed": false,
    "cell_id": "00015-01287db9-92ab-4150-ae53-120c46ff4327",
    "deepnote_cell_type": "text-cell-p"
   }
  },
  {
   "cell_type": "markdown",
   "source": "<a style='text-decoration:none;line-height:16px;display:flex;color:#5B5B62;padding:10px;justify-content:end;' href='https://deepnote.com?utm_source=created-in-deepnote-cell&projectId=8606e20e-0dce-4234-a218-aa8a4a0a031e' target=\"_blank\">\n<img alt='Created in deepnote.com' style='display:inline;max-height:16px;margin:0px;margin-right:7.5px;' src='data:image/svg+xml;base64,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' > </img>\nCreated in <span style='font-weight:600;margin-left:4px;'>Deepnote</span></a>",
   "metadata": {
    "tags": [],
    "created_in_deepnote_cell": true,
    "deepnote_cell_type": "markdown"
   }
  }
 ],
 "nbformat": 4,
 "nbformat_minor": 2,
 "metadata": {
  "orig_nbformat": 2,
  "deepnote": {
   "is_reactive": false
  },
  "deepnote_notebook_id": "88c08e54-6ec0-42a3-9640-08e5a2f800ad",
  "deepnote_execution_queue": []
 }
}